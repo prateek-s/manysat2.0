{
 "metadata": {
  "name": "",
  "signature": "sha256:be204b1e0e1254bf6c05fc9810f8ff99c88c8b3cd5cf25309624a42125c692ab"
 },
 "nbformat": 3,
 "nbformat_minor": 0,
 "worksheets": [
  {
   "cells": [
    {
     "cell_type": "code",
     "collapsed": false,
     "input": [
      "%matplotlib\n",
      "import os,sys\n",
      "import numpy as np\n",
      "import matplotlib\n",
      "import matplotlib.pyplot as plt\n",
      "import pylab\n",
      "from IPython import display\n",
      "from itertools import cycle\n",
      "#from statsmodels.distributions.empirical_distribution import ECDF"
     ],
     "language": "python",
     "metadata": {},
     "outputs": [
      {
       "output_type": "stream",
       "stream": "stdout",
       "text": [
        "Using matplotlib backend: TkAgg\n"
       ]
      }
     ],
     "prompt_number": 368
    },
    {
     "cell_type": "code",
     "collapsed": false,
     "input": [
      "bname_map=dict()\n",
      "\n",
      "def read_data(path):\n",
      "    out=[]\n",
      "    with open(path) as f:\n",
      "        indata = f.readlines()\n",
      "        #Each line is full pathname and the running-time \n",
      "        for ale in indata:\n",
      "            toks = ale.split(\",\")\n",
      "            bmark = os.path.basename(toks[0]).strip()\n",
      "            runtime = int(toks[1])\n",
      "    \n",
      "            out.append((bmark, runtime))\n",
      "        out=sorted(out, key=lambda tup:tup[1])\n",
      "        f.close()\n",
      "        return out\n",
      "        \n",
      "od = read_data(\"app_results_1\")\n"
     ],
     "language": "python",
     "metadata": {},
     "outputs": [],
     "prompt_number": 369
    },
    {
     "cell_type": "code",
     "collapsed": false,
     "input": [
      "bname_map = {k:v for (v,k) in enumerate([x for (x,y) in od] )}\n",
      "#ensure dictionary items are set only once?"
     ],
     "language": "python",
     "metadata": {},
     "outputs": [],
     "prompt_number": 370
    },
    {
     "cell_type": "code",
     "collapsed": false,
     "input": [
      "def joinify(od):\n",
      "    #[(cnf, runtime)] -> [(index, runtime)]\n",
      "    iod = []\n",
      "    for (c,r) in od :\n",
      "        i=bname_map[c]\n",
      "        iod.append((i,r))\n",
      "    iod = zip(*iod)\n",
      "    return iod\n",
      "\n",
      "def rj(p) :\n",
      "    return joinify(read_data(p))\n"
     ],
     "language": "python",
     "metadata": {},
     "outputs": [],
     "prompt_number": 371
    },
    {
     "cell_type": "code",
     "collapsed": false,
     "input": [
      "od = joinify(od)\n",
      "#ecdf = ECDF(od[1])\n",
      "#print ecdf\n",
      "brc4=cycle(['r','g','0.5','b','black','0.6']) #Sequential\n",
      "mk=cycle(['s','o','v','*','x'])\n"
     ],
     "language": "python",
     "metadata": {},
     "outputs": [],
     "prompt_number": 372
    },
    {
     "cell_type": "code",
     "collapsed": false,
     "input": [
      "def plot_scatter():\n",
      "    matplotlib.rcParams.update({'font.size': 12})\n",
      "    matplotlib.rcParams.update({'lines.linewidth': 1.0})\n",
      "    fig = plt.figure(tight_layout=True)\n",
      "    ax = fig.add_subplot(1,1,1)\n",
      "    fig.set_size_inches(10,5)\n",
      "    ax.set_xlabel(\"Input\")\n",
      "    ax.set_ylabel(\"Time (s)\")\n",
      "    X=np.arange(27)\n",
      "    od=rj(\"app_results_1\")\n",
      "    ax.plot(X, sorted(od[1]), ls='-', label='1', color=brc4.next(),marker=mk.next())\n",
      "    print od[0]\n",
      "    print X\n",
      "    od=rj(\"app_results_10_8\")\n",
      "    ax.plot(X, sorted(od[1]), ls='-', label='10', color=brc4.next(),marker=mk.next())\n",
      "   \n",
      "    od=rj(\"app_results_20_8\")\n",
      "    ax.plot(X, sorted(od[1]), ls='-', label='20', color=brc4.next(),marker=mk.next())\n",
      "   \n",
      "    od=rj(\"app_results_25_8\")\n",
      "    ax.plot(X, sorted(od[1]), ls='-', label='25', color=brc4.next(),marker=mk.next())\n",
      "    \n",
      "    od=rj(\"app_results_50_8\")\n",
      "    ax.plot(X, sorted(od[1]), ls='-', label='50', color=brc4.next(),marker=mk.next())\n",
      "    \n",
      "    od=rj(\"app_results_100_8\")\n",
      "    ax.plot(X, sorted(od[1]), ls='-', label='100', color=brc4.next(),marker=mk.next())\n",
      "    \n",
      "    ax.set_ylim(-20,1110)\n",
      "    \n",
      "    major_ticks = np.arange(0, 30, 5)                                              \n",
      "    minor_ticks = np.arange(0, 30, 1)                                               \n",
      "    ax.set_xticks(major_ticks)                                                       \n",
      "    ax.set_xticks(minor_ticks, minor=True)  \n",
      "    ax.grid(which='minor', alpha=0.7)                                                \n",
      "    ax.grid(which='major', alpha=0.7)                                                \n",
      "    ax.legend(loc='best')\n",
      "    plt.savefig(\"scatter_cdf.pdf\", bbox_inches=\"tight\")\n",
      "    \n",
      "    return ax\n",
      "    \n",
      "    "
     ],
     "language": "python",
     "metadata": {},
     "outputs": [],
     "prompt_number": 411
    },
    {
     "cell_type": "code",
     "collapsed": false,
     "input": [
      "plot_scatter()\n"
     ],
     "language": "python",
     "metadata": {},
     "outputs": [
      {
       "output_type": "stream",
       "stream": "stdout",
       "text": [
        "(0, 1, 2, 3, 4, 5, 6, 7, 8, 9, 10, 11, 12, 13, 14, 15, 16, 17, 18, 19, 20, 21, 22, 23, 24, 25, 26)\n",
        "[ 0  1  2  3  4  5  6  7  8  9 10 11 12 13 14 15 16 17 18 19 20 21 22 23 24\n",
        " 25 26]\n"
       ]
      },
      {
       "metadata": {},
       "output_type": "pyout",
       "prompt_number": 412,
       "text": [
        "<matplotlib.axes._subplots.AxesSubplot at 0x7fb7b080fa90>"
       ]
      }
     ],
     "prompt_number": 412
    },
    {
     "cell_type": "code",
     "collapsed": false,
     "input": [
      "def plot_box():\n",
      "    matplotlib.rcParams.update({'font.size': 12})\n",
      "    matplotlib.rcParams.update({'lines.linewidth': 1.0})\n",
      "    fig = plt.figure(tight_layout=True)\n",
      "    ax = fig.add_subplot(1,1,1)\n",
      "    fig.set_size_inches(8,5)\n",
      "    ax.set_xlabel(\"Clause Sharing\")\n",
      "    ax.set_ylabel(\"Time (s)\")\n",
      "    \n",
      "    d=[rj(\"app_results_1\")[1], rj(\"app_results_10_8\")[1], rj(\"app_results_20_8\")[1], \\\n",
      "       rj(\"app_results_25_8\")[1], rj(\"app_results_50_8\")[1], rj(\"app_results_100_8\")[1]]\n",
      "    \n",
      "    ax.boxplot(d)\n",
      "    ax.set_xticklabels(['1','10','20','25','50','100'])\n",
      "    plt.savefig(\"boxplot_all.pdf\", bbox_inches=\"tight\")\n",
      "    \n",
      "#plot_box()\n"
     ],
     "language": "python",
     "metadata": {},
     "outputs": [],
     "prompt_number": 366
    },
    {
     "cell_type": "code",
     "collapsed": false,
     "input": [
      "def plot_compare():\n",
      "    #Compare ManySAT with parallel lingeling \n",
      "    matplotlib.rcParams.update({'font.size': 12})\n",
      "    matplotlib.rcParams.update({'lines.linewidth': 1.0})\n",
      "    fig = plt.figure(tight_layout=True)\n",
      "    ax = fig.add_subplot(1,1,1)\n",
      "    fig.set_size_inches(10,5)\n",
      "    ax.set_xlabel(\"Input\")\n",
      "    ax.set_ylabel(\"Time (s)\")\n",
      "    \n",
      "    od=rj(\"app_results_1\")\n",
      "    ax.plot(od[0], od[1], ls='None', label='ManySAT, c=1', color='black',marker='o')\n",
      "\n",
      "    od=rj(\"app_results_10_8\")\n",
      "    ax.plot(od[0], od[1], ls='None', label='ManySAT, c=10', color='black',marker='s')\n",
      "    #open(\"../../lingeling-bal-2293bef-151109/app_results_1_8\")\n",
      "    od=rj(\"../../lingeling-bal-2293bef-151109/app_results_0_4\")\n",
      "    ax.plot(od[0], od[1], ls='None', label='plingeling, no sharing', color='r',marker='o')\n",
      "   \n",
      "    od=rj(\"../../lingeling-bal-2293bef-151109/app_results_1_8\")\n",
      "    ax.plot(od[0], od[1], ls='None', label='plingeling with sharing', color='r',marker='s')\n",
      "    \n",
      "    \n",
      "    ax.set_ylim(-20,1110)\n",
      "    \n",
      "    major_ticks = np.arange(0, 30, 5)                                              \n",
      "    minor_ticks = np.arange(0, 30, 1)                                               \n",
      "    ax.set_xticks(major_ticks)                                                       \n",
      "    ax.set_xticks(minor_ticks, minor=True)  \n",
      "    ax.grid(which='minor', alpha=0.7)                                                \n",
      "    ax.grid(which='major', alpha=0.7)                                                \n",
      "    ax.legend(loc='best')\n",
      "    plt.savefig(\"scatter_compare.pdf\", bbox_inches=\"tight\")\n",
      "    \n",
      "    return ax\n",
      "\n",
      "plot_compare()"
     ],
     "language": "python",
     "metadata": {},
     "outputs": [
      {
       "metadata": {},
       "output_type": "pyout",
       "prompt_number": 386,
       "text": [
        "<matplotlib.axes._subplots.AxesSubplot at 0x7fb7b1413b90>"
       ]
      }
     ],
     "prompt_number": 386
    },
    {
     "cell_type": "code",
     "collapsed": false,
     "input": [
      "def cmp_manysat_lingeling():\n",
      "    matplotlib.rcParams.update({'font.size': 12})\n",
      "    matplotlib.rcParams.update({'lines.linewidth': 1.0})\n",
      "    fig = plt.figure(tight_layout=True)\n",
      "    ax = fig.add_subplot(1,1,1)\n",
      "    fig.set_size_inches(8,5)\n",
      "    ax.set_xlabel(\"Solver\")\n",
      "    ax.set_ylabel(\"Time (s)\")\n",
      "    \n",
      "    d=[rj(\"app_results_1\")[1], rj(\"../../lingeling-bal-2293bef-151109/app_results_0_4\")[1], \\\n",
      "        rj(\"app_results_10_8\")[1], rj(\"../../lingeling-bal-2293bef-151109/app_results_1_8\")[1]]\n",
      "    \n",
      "    ax.boxplot(d)\n",
      "    ax.set_xticklabels(['ManySAT, c=1','pLingeling \\n No Sharing','ManySAT, c=10','pLingeling \\n With Sharing'])\n",
      "    plt.savefig(\"cmp_box.pdf\", bbox_inches=\"tight\")\n",
      "    \n",
      "cmp_manysat_lingeling()"
     ],
     "language": "python",
     "metadata": {},
     "outputs": [],
     "prompt_number": 415
    },
    {
     "cell_type": "code",
     "collapsed": false,
     "input": [],
     "language": "python",
     "metadata": {},
     "outputs": []
    }
   ],
   "metadata": {}
  }
 ]
}