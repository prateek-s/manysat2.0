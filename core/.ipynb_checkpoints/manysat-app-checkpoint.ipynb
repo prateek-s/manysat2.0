{
 "metadata": {
  "name": "",
  "signature": "sha256:3dcf3ce094e1f38f742a005322544b8262e9b04702327154f9f065c320a212ad"
 },
 "nbformat": 3,
 "nbformat_minor": 0,
 "worksheets": [
  {
   "cells": [
    {
     "cell_type": "code",
     "collapsed": false,
     "input": [
      "%matplotlib\n",
      "import os,sys\n",
      "import numpy as np\n",
      "import matplotlib\n",
      "import matplotlib.pyplot as plt\n",
      "import pylab\n",
      "from IPython import display\n",
      "from itertools import cycle\n",
      "#from statsmodels.distributions.empirical_distribution import ECDF"
     ],
     "language": "python",
     "metadata": {},
     "outputs": [
      {
       "output_type": "stream",
       "stream": "stdout",
       "text": [
        "Using matplotlib backend: TkAgg\n"
       ]
      }
     ],
     "prompt_number": 346
    },
    {
     "cell_type": "code",
     "collapsed": false,
     "input": [
      "bname_map=dict()\n",
      "\n",
      "def read_data(path):\n",
      "    out=[]\n",
      "    with open(path) as f:\n",
      "        indata = f.readlines()\n",
      "        #Each line is full pathname and the running-time \n",
      "        for ale in indata:\n",
      "            toks = ale.split(\",\")\n",
      "            bmark = os.path.basename(toks[0]).strip()\n",
      "            runtime = int(toks[1])\n",
      "    \n",
      "            out.append((bmark, runtime))\n",
      "        out=sorted(out, key=lambda tup:tup[1])\n",
      "        f.close()\n",
      "        return out\n",
      "        \n",
      "od = read_data(\"app_results_1\")\n"
     ],
     "language": "python",
     "metadata": {},
     "outputs": [],
     "prompt_number": 347
    },
    {
     "cell_type": "code",
     "collapsed": false,
     "input": [
      "bname_map = {k:v for (v,k) in enumerate([x for (x,y) in od] )}\n",
      "#ensure dictionary items are set only once?"
     ],
     "language": "python",
     "metadata": {},
     "outputs": [],
     "prompt_number": 348
    },
    {
     "cell_type": "code",
     "collapsed": false,
     "input": [
      "def joinify(od):\n",
      "    #[(cnf, runtime)] -> [(index, runtime)]\n",
      "    iod = []\n",
      "    for (c,r) in od :\n",
      "        i=bname_map[c]\n",
      "        iod.append((i,r))\n",
      "    iod = zip(*iod)\n",
      "    return iod\n",
      "\n",
      "def rj(p) :\n",
      "    return joinify(read_data(p))\n"
     ],
     "language": "python",
     "metadata": {},
     "outputs": [],
     "prompt_number": 349
    },
    {
     "cell_type": "code",
     "collapsed": false,
     "input": [
      "od = joinify(od)\n",
      "#ecdf = ECDF(od[1])\n",
      "#print ecdf\n",
      "brc4=cycle(['r','g','0.5','b','black','0.6']) #Sequential\n",
      "mk=cycle(['s','o','v','*','x'])\n"
     ],
     "language": "python",
     "metadata": {},
     "outputs": [],
     "prompt_number": 350
    },
    {
     "cell_type": "code",
     "collapsed": false,
     "input": [
      "\n",
      "\n",
      "\n",
      "def plot_scatter():\n",
      "    matplotlib.rcParams.update({'font.size': 12})\n",
      "    matplotlib.rcParams.update({'lines.linewidth': 1.0})\n",
      "    fig = plt.figure(tight_layout=True)\n",
      "    ax = fig.add_subplot(1,1,1)\n",
      "    fig.set_size_inches(8,5)\n",
      "    ax.set_xlabel(\"Input\")\n",
      "    ax.set_ylabel(\"Time (s)\")\n",
      "    \n",
      "    od=rj(\"app_results_1\")\n",
      "    ax.plot(od[0], od[1], ls='None', label='1', color=brc4.next(),marker=mk.next())\n",
      "\n",
      "    od=rj(\"app_results_10_\")\n",
      "    ax.plot(od[0], od[1], ls='None', label='10', color=brc4.next(),marker=mk.next())\n",
      "   \n",
      "    od=rj(\"app_results_20_8\")\n",
      "    ax.plot(od[0], od[1], ls='None', label='20', color=brc4.next(),marker=mk.next())\n",
      "   \n",
      "    od=rj(\"app_results_25_8\")\n",
      "    ax.plot(od[0], od[1], ls='None', label='25', color=brc4.next(),marker=mk.next())\n",
      "    \n",
      "    od=rj(\"app_results_50_8\")\n",
      "    ax.plot(od[0], od[1], ls='None', label='50', color=brc4.next(),marker=mk.next())\n",
      "    \n",
      "    od=rj(\"app_results_100_8\")\n",
      "    ax.plot(od[0], od[1], ls='None', label='100', color=brc4.next(),marker=mk.next())\n",
      "    \n",
      "    ax.set_ylim(-20,1110)\n",
      "    ax.legend(loc='best')\n",
      "    plt.savefig(\"scatter_all.pdf\", bbox_inches=\"tight\")\n",
      "    \n",
      "    return ax\n",
      "    \n",
      "    "
     ],
     "language": "python",
     "metadata": {},
     "outputs": [],
     "prompt_number": 351
    },
    {
     "cell_type": "code",
     "collapsed": false,
     "input": [
      "#plot_scatter()"
     ],
     "language": "python",
     "metadata": {},
     "outputs": [
      {
       "metadata": {},
       "output_type": "pyout",
       "prompt_number": 352,
       "text": [
        "<matplotlib.axes._subplots.AxesSubplot at 0x7fb7b23ef910>"
       ]
      }
     ],
     "prompt_number": 352
    },
    {
     "cell_type": "code",
     "collapsed": false,
     "input": [
      "def plot_box():\n",
      "    matplotlib.rcParams.update({'font.size': 12})\n",
      "    matplotlib.rcParams.update({'lines.linewidth': 1.0})\n",
      "    fig = plt.figure(tight_layout=True)\n",
      "    ax = fig.add_subplot(1,1,1)\n",
      "    fig.set_size_inches(8,5)\n",
      "    ax.set_xlabel(\"Clause Sharing\")\n",
      "    ax.set_ylabel(\"Time (s)\")\n",
      "    d=[rj(\"app_results_1\")[1], rj(\"app_results_10_\")[1], rj(\"app_results_20_8\")[1], \\\n",
      "       rj(\"app_results_25_8\")[1], rj(\"app_results_50_8\")[1], rj(\"app_results_100_8\")[1]]\n",
      "    \n",
      "    ax.boxplot(d)\n",
      "    ax.set_xticklabels(['1','10','20','25','50','100'])\n",
      "    plt.savefig(\"boxplot_all.pdf\", bbox_inches=\"tight\")\n",
      "    \n",
      "plot_box()\n"
     ],
     "language": "python",
     "metadata": {},
     "outputs": [],
     "prompt_number": 358
    },
    {
     "cell_type": "code",
     "collapsed": false,
     "input": [],
     "language": "python",
     "metadata": {},
     "outputs": []
    }
   ],
   "metadata": {}
  }
 ]
}