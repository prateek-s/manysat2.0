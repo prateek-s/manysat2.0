{
 "metadata": {
  "name": "",
  "signature": "sha256:613959f9df16a6bdac9807647f0bfb006994e8398b6a53a0904930dd38600779"
 },
 "nbformat": 3,
 "nbformat_minor": 0,
 "worksheets": [
  {
   "cells": [
    {
     "cell_type": "code",
     "collapsed": false,
     "input": [
      "%matplotlib\n",
      "import os,sys\n",
      "import numpy as np\n",
      "import matplotlib\n",
      "import matplotlib.pyplot as plt\n",
      "import pylab\n",
      "from IPython import display\n",
      "from itertools import cycle"
     ],
     "language": "python",
     "metadata": {},
     "outputs": [
      {
       "output_type": "stream",
       "stream": "stdout",
       "text": [
        "Using matplotlib backend: TkAgg\n"
       ]
      }
     ],
     "prompt_number": 1
    },
    {
     "cell_type": "code",
     "collapsed": false,
     "input": [
      "data=pylab.loadtxt('../one_sharing_runtime.txt')\n"
     ],
     "language": "python",
     "metadata": {},
     "outputs": [],
     "prompt_number": 4
    },
    {
     "cell_type": "code",
     "collapsed": false,
     "input": [
      "data[:,0]"
     ],
     "language": "python",
     "metadata": {},
     "outputs": [
      {
       "metadata": {},
       "output_type": "pyout",
       "prompt_number": 6,
       "text": [
        "array([   2.,    8.,   62.,   65.,  227.,  562.,  608.,  701.,  857.])"
       ]
      }
     ],
     "prompt_number": 6
    },
    {
     "cell_type": "code",
     "collapsed": false,
     "input": [
      "pylab.plot(data[:,0],data[:,1])\n",
      "pylab.xlabel(\"% Clauses shared\")\n",
      "pylab.ylabel(\"Runtime (s)\")\n"
     ],
     "language": "python",
     "metadata": {},
     "outputs": [
      {
       "output_type": "stream",
       "stream": "stderr",
       "text": [
        "Exception in Tkinter callback\n",
        "Traceback (most recent call last):\n",
        "  File \"/usr/lib/python2.7/lib-tk/Tkinter.py\", line 1539, in __call__\n",
        "    return self.func(*args)\n",
        "  File \"/usr/lib/python2.7/lib-tk/Tkinter.py\", line 590, in callit\n",
        "    func(*args)\n",
        "  File \"/usr/lib/python2.7/dist-packages/matplotlib/backends/backend_tkagg.py\", line 365, in idle_draw\n",
        "    self.draw()\n",
        "  File \"/usr/lib/python2.7/dist-packages/matplotlib/backends/backend_tkagg.py\", line 349, in draw\n",
        "    FigureCanvasAgg.draw(self)\n",
        "  File \"/usr/lib/python2.7/dist-packages/matplotlib/backends/backend_agg.py\", line 469, in draw\n",
        "    self.figure.draw(self.renderer)\n",
        "  File \"/usr/lib/python2.7/dist-packages/matplotlib/artist.py\", line 59, in draw_wrapper\n",
        "    draw(artist, renderer, *args, **kwargs)\n",
        "  File \"/usr/lib/python2.7/dist-packages/matplotlib/figure.py\", line 1079, in draw\n",
        "    func(*args)\n",
        "  File \"/usr/lib/python2.7/dist-packages/matplotlib/artist.py\", line 59, in draw_wrapper\n",
        "    draw(artist, renderer, *args, **kwargs)\n",
        "  File \"/usr/lib/python2.7/dist-packages/matplotlib/axes/_base.py\", line 2092, in draw\n",
        "    a.draw(renderer)\n",
        "  File \"/usr/lib/python2.7/dist-packages/matplotlib/artist.py\", line 59, in draw_wrapper\n",
        "    draw(artist, renderer, *args, **kwargs)\n",
        "  File \"/usr/lib/python2.7/dist-packages/matplotlib/lines.py\", line 686, in draw\n",
        "    ln_color_rgba = self._get_rgba_ln_color()\n",
        "  File \"/usr/lib/python2.7/dist-packages/matplotlib/lines.py\", line 1163, in _get_rgba_ln_color\n",
        "    return colorConverter.to_rgba(self._color, self._alpha)\n",
        "  File \"/usr/lib/python2.7/dist-packages/matplotlib/colors.py\", line 376, in to_rgba\n",
        "    'to_rgba: Invalid rgba arg \"%s\"\\n%s' % (str(arg), exc))\n",
        "ValueError: to_rgba: Invalid rgba arg \"0.9\"\n",
        "to_rgb: Invalid rgb arg \"0.9\"\n",
        "cannot convert argument to rgb sequence\n"
       ]
      },
      {
       "metadata": {},
       "output_type": "pyout",
       "prompt_number": 13,
       "text": [
        "<matplotlib.text.Text at 0x7fb1d5080910>"
       ]
      }
     ],
     "prompt_number": 13
    },
    {
     "cell_type": "code",
     "collapsed": false,
     "input": [
      "plt.show()\n"
     ],
     "language": "python",
     "metadata": {},
     "outputs": [
      {
       "output_type": "stream",
       "stream": "stderr",
       "text": [
        "Exception in Tkinter callback\n",
        "Traceback (most recent call last):\n",
        "  File \"/usr/lib/python2.7/lib-tk/Tkinter.py\", line 1539, in __call__\n",
        "    return self.func(*args)\n",
        "  File \"/usr/lib/python2.7/lib-tk/Tkinter.py\", line 590, in callit\n",
        "    func(*args)\n",
        "  File \"/usr/lib/python2.7/dist-packages/matplotlib/backends/backend_tkagg.py\", line 365, in idle_draw\n",
        "    self.draw()\n",
        "  File \"/usr/lib/python2.7/dist-packages/matplotlib/backends/backend_tkagg.py\", line 349, in draw\n",
        "    FigureCanvasAgg.draw(self)\n",
        "  File \"/usr/lib/python2.7/dist-packages/matplotlib/backends/backend_agg.py\", line 469, in draw\n",
        "    self.figure.draw(self.renderer)\n",
        "  File \"/usr/lib/python2.7/dist-packages/matplotlib/artist.py\", line 59, in draw_wrapper\n",
        "    draw(artist, renderer, *args, **kwargs)\n",
        "  File \"/usr/lib/python2.7/dist-packages/matplotlib/figure.py\", line 1079, in draw\n",
        "    func(*args)\n",
        "  File \"/usr/lib/python2.7/dist-packages/matplotlib/artist.py\", line 59, in draw_wrapper\n",
        "    draw(artist, renderer, *args, **kwargs)\n",
        "  File \"/usr/lib/python2.7/dist-packages/matplotlib/axes/_base.py\", line 2092, in draw\n",
        "    a.draw(renderer)\n",
        "  File \"/usr/lib/python2.7/dist-packages/matplotlib/artist.py\", line 59, in draw_wrapper\n",
        "    draw(artist, renderer, *args, **kwargs)\n",
        "  File \"/usr/lib/python2.7/dist-packages/matplotlib/lines.py\", line 686, in draw\n",
        "    ln_color_rgba = self._get_rgba_ln_color()\n",
        "  File \"/usr/lib/python2.7/dist-packages/matplotlib/lines.py\", line 1163, in _get_rgba_ln_color\n",
        "    return colorConverter.to_rgba(self._color, self._alpha)\n",
        "  File \"/usr/lib/python2.7/dist-packages/matplotlib/colors.py\", line 376, in to_rgba\n",
        "    'to_rgba: Invalid rgba arg \"%s\"\\n%s' % (str(arg), exc))\n",
        "ValueError: to_rgba: Invalid rgba arg \"0.9\"\n",
        "to_rgb: Invalid rgb arg \"0.9\"\n",
        "cannot convert argument to rgb sequence\n"
       ]
      }
     ],
     "prompt_number": 15
    }
   ],
   "metadata": {}
  }
 ]
}